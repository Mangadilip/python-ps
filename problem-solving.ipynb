{
 "cells": [
  {
   "cell_type": "code",
   "execution_count": 23,
   "id": "a0255422-1ef6-4ba8-8da4-3f92b2594267",
   "metadata": {},
   "outputs": [
    {
     "name": "stdout",
     "output_type": "stream",
     "text": [
      "positive\n"
     ]
    }
   ],
   "source": [
    "# Write a program to check if a given number is positive,negative, or zero.\n",
    "num=int(input(\"enter the number: \"))\n",
    "if(num>=1):\n",
    "    print(\"positive\")\n",
    "elif(num==0):\n",
    "    \n",
    "    print(\"zero\")\n",
    "else:\n",
    "    print(\"negative\")\n",
    "    "
   ]
  },
  {
   "cell_type": "code",
   "execution_count": 24,
   "id": "a2039007-e4d8-4bde-b55f-c115eec88d08",
   "metadata": {},
   "outputs": [
    {
     "name": "stdout",
     "output_type": "stream",
     "text": [
      "odd\n"
     ]
    }
   ],
   "source": [
    "# Determine if a number is odd or even.\n",
    "num=int(input(\"enter the number: \"))\n",
    "if(num%2==0):\n",
    "    print(\"even\")\n",
    "else:\n",
    "    print(\"odd\")"
   ]
  },
  {
   "cell_type": "code",
   "execution_count": 25,
   "id": "feecddfc-6742-48a2-b1dc-08e6c9063046",
   "metadata": {},
   "outputs": [
    {
     "name": "stdout",
     "output_type": "stream",
     "text": [
      "person is eligible to vote\n"
     ]
    }
   ],
   "source": [
    "# Check if a person is eligible to vote (age >= 18).\n",
    "num=int(input(\"enter the age of the person: \"))\n",
    "if(num>=18):\n",
    "    print(\"person is eligible to vote\")\n",
    "else:\n",
    "    print(\"person is not eligible to vote\")\n"
   ]
  },
  {
   "cell_type": "code",
   "execution_count": 26,
   "id": "fd66196c-ba32-47ca-8910-5b02bff17946",
   "metadata": {},
   "outputs": [
    {
     "name": "stdout",
     "output_type": "stream",
     "text": [
      "num2 is greatest\n"
     ]
    }
   ],
   "source": [
    "# Write a program to find the greatest of two numbers.\n",
    "num1=int(input(\"enter the number: \"))\n",
    "num2=int(input(\"enter the number: \"))\n",
    "if(num1>num2):\n",
    "    print(\"num1 is greatest\")\n",
    "else:\n",
    "    print(\"num2 is greatest\")\n"
   ]
  },
  {
   "cell_type": "code",
   "execution_count": 27,
   "id": "09193b0e-a6c1-4423-b793-f5998d8c87d8",
   "metadata": {},
   "outputs": [
    {
     "name": "stdout",
     "output_type": "stream",
     "text": [
      "pass\n"
     ]
    }
   ],
   "source": [
    "# Print \"Pass\" if a student scores more than 40 marks;otherwise, print \"Fail.\"\n",
    "num=int(input(\"enter the number: \"))\n",
    "if(num>40):\n",
    "    print(\"pass\")\n",
    "else:\n",
    "    print(\"fail\")"
   ]
  },
  {
   "cell_type": "code",
   "execution_count": 28,
   "id": "62cfe75a-64ae-488f-904b-8a012c91dd59",
   "metadata": {},
   "outputs": [
    {
     "name": "stdout",
     "output_type": "stream",
     "text": [
      "Saturday\n"
     ]
    }
   ],
   "source": [
    "# Write a program to display the day of the week based on a number input (1 for Monday, 2 for Tuesday, etc.).\n",
    "\n",
    "day_number = int(input(\"Enter a number (1-7) to get the day of the week: \"))\n",
    "days = {\n",
    "    1: \"Monday\",\n",
    "    2: \"Tuesday\",\n",
    "    3: \"Wednesday\",\n",
    "    4: \"Thursday\",\n",
    "    5: \"Friday\",\n",
    "    6: \"Saturday\",\n",
    "    7: \"Sunday\"\n",
    "}\n",
    "print(days.get(day_number, \"Invalid input! Please enter a number between 1 and 7.\"))\n"
   ]
  },
  {
   "cell_type": "code",
   "execution_count": 29,
   "id": "ff22851a-0e29-4bc5-aae1-beb44c58c782",
   "metadata": {},
   "outputs": [
    {
     "name": "stdout",
     "output_type": "stream",
     "text": [
      "answer- 42.0\n",
      "\n",
      "\n"
     ]
    }
   ],
   "source": [
    "# Implement a simple calculator to perform addition, subtraction, multiplication, and division.\n",
    "\n",
    "a=0\n",
    "continuee=\"y\"\n",
    "while(continuee==\"y\"):\n",
    "    a=float(input(\"enter a number- \"))\n",
    "    b=float(input(\"enter another number- \"))\n",
    "    operation=input(\"what operation to perform? (add,sub,mul,div) - \").strip().lower()\n",
    "    \n",
    "    def arthmetic(x,y,z):\n",
    "        if z==\"add\":\n",
    "            a=x+y\n",
    "            print(f\"answer- {a}\")            \n",
    "        elif z==\"sub\":\n",
    "            a=x-y\n",
    "            print(f\"answer- {a}\")            \n",
    "        elif z==\"mul\":\n",
    "            a=x*y\n",
    "            print(f\"answer- {a}\")            \n",
    "        elif z==\"div\":\n",
    "            if x==0 or y==0:\n",
    "                print(\"division with zero\")\n",
    "            else:\n",
    "                a=x/y\n",
    "                print(f\"answer- {a}\")              \n",
    "        else:\n",
    "            print(\"provide proper operation to evalute\")\n",
    "        print(\"\\n\")\n",
    "        \n",
    "    arthmetic(a,b,operation)\n",
    "    continuee=input(\"Do you wanna continue (y/n)? - \").strip().lower()"
   ]
  },
  {
   "cell_type": "code",
   "execution_count": 30,
   "id": "a7413d4a-99f1-4d8d-925b-b2874f36bd1c",
   "metadata": {},
   "outputs": [
    {
     "name": "stdout",
     "output_type": "stream",
     "text": [
      "September\n"
     ]
    }
   ],
   "source": [
    "# Write a program to display the name of a month based on the month number (1 for January, 2 for February, etc.).\n",
    "\n",
    "month_number = int(input(\"Enter a number (1-12) to get the month name: \"))\n",
    "months = {\n",
    "    1: \"January\", 2: \"February\", 3: \"March\", 4: \"April\",\n",
    "    5: \"May\", 6: \"June\", 7: \"July\", 8: \"August\",\n",
    "    9: \"September\", 10: \"October\", 11: \"November\", 12: \"December\"\n",
    "}\n",
    "\n",
    "print(months.get(month_number, \"Invalid input! Please enter a number between 1 and 12.\"))\n"
   ]
  },
  {
   "cell_type": "code",
   "execution_count": 31,
   "id": "b4b48380-cf2b-4345-a27c-36731b60d06a",
   "metadata": {},
   "outputs": [
    {
     "name": "stdout",
     "output_type": "stream",
     "text": [
      "not a leap year\n"
     ]
    }
   ],
   "source": [
    "# Check if a year is a leap year.\n",
    "year=int(input(\"enter the year :\"))\n",
    "if(((year % 4 == 0) and (year % 100 != 0)) or (year % 400 == 0)):\n",
    "    print(\"leap year\")\n",
    "else:\n",
    "    print(\"not a leap year\")"
   ]
  },
  {
   "cell_type": "code",
   "execution_count": 35,
   "id": "cb4b2fde-25f6-4b82-926e-b2b724886c92",
   "metadata": {},
   "outputs": [
    {
     "name": "stdout",
     "output_type": "stream",
     "text": [
      "Triangle possible\n"
     ]
    }
   ],
   "source": [
    "# Write a program to check if three sides length form a valid triangle.\n",
    "side1 = int(input(\"side1 :\"))\n",
    "side2 = int(input(\"side2 :\"))\n",
    "side3 = int(input(\"side3 :\"))\n",
    "print(\"Triangle possible\" if(side2 + side3 > side1) and (side3 + side1 > side2) and (side1 + side2 > side3) else\"Triangle not possible\")"
   ]
  },
  {
   "cell_type": "code",
   "execution_count": 36,
   "id": "36120e2c-e555-4c94-b518-e3d878f72819",
   "metadata": {},
   "outputs": [
    {
     "name": "stdout",
     "output_type": "stream",
     "text": [
      "vowels\n"
     ]
    }
   ],
   "source": [
    "# Write a program to classify a character entered by the user as a vowel, consonant, or neither.\n",
    "str1 = input(\"enter a single character :\").lower()\n",
    "if len(str1) > 1 or len(str1) == 0:\n",
    "    print(\"please enter the single character\")\n",
    "else:\n",
    "    if str1 in \"aeiou\":\n",
    "        print(\"vowels\")\n",
    "    elif str1.isalpha():\n",
    "        print(\"consonant\")\n",
    "    else:\n",
    "        print(\"neither\")\n"
   ]
  },
  {
   "cell_type": "code",
   "execution_count": 37,
   "id": "592928f0-6167-4039-b49a-f7a9ee294b96",
   "metadata": {},
   "outputs": [
    {
     "name": "stdout",
     "output_type": "stream",
     "text": [
      "Student's Grade: Fail\n"
     ]
    }
   ],
   "source": [
    "# Calculate the grade of a student based on the marks they\n",
    "# score:\n",
    "# 1. 90-100: Grade A\n",
    "# 2. 80-89: Grade B\n",
    "# 3. 70-79: Grade C\n",
    "# 4. <70: Fail.\n",
    "marks = float(input(\"Enter the student's marks (0-100): \"))\n",
    "\n",
    "if 90 <= marks <= 100:\n",
    "    grade = \"A\"\n",
    "elif 80 <= marks < 90:\n",
    "    grade = \"B\"\n",
    "elif 70 <= marks < 80:\n",
    "    grade = \"C\"\n",
    "elif 0 <= marks < 70:\n",
    "    grade = \"Fail\"\n",
    "else:\n",
    "    grade = \"Invalid marks! Please enter a number between 0 and 100.\"\n",
    "\n",
    "print(f\"Student's Grade: {grade}\")\n"
   ]
  },
  {
   "cell_type": "code",
   "execution_count": 38,
   "id": "d84083ef-ce8a-47d2-ad9b-c738509fa2f8",
   "metadata": {},
   "outputs": [
    {
     "name": "stdout",
     "output_type": "stream",
     "text": [
      "Login successfull\n"
     ]
    }
   ],
   "source": [
    "# password checker\n",
    "actual_Username = \"Dilip\"\n",
    "actual_Password = \"123456\"\n",
    "\n",
    "username_Input = input(\"Enter the username :\")\n",
    "password_Input = input(\"Enter the password :\")\n",
    "\n",
    "if actual_Username == username_Input and actual_Password == password_Input:\n",
    "    print(\"Login successfull\")\n",
    "else:\n",
    "    print(\"Invalid username or password\")\n",
    "    \n",
    "\n"
   ]
  },
  {
   "cell_type": "markdown",
   "id": "8c992eb7-5d68-4795-afb5-95042a829c5d",
   "metadata": {},
   "source": [
    "# loops"
   ]
  },
  {
   "cell_type": "code",
   "execution_count": 39,
   "id": "60463381-5611-4573-bdb5-5ac205fbecdd",
   "metadata": {},
   "outputs": [
    {
     "name": "stdout",
     "output_type": "stream",
     "text": [
      "3 X 1 = 3\n",
      "3 X 2 = 6\n",
      "3 X 3 = 9\n",
      "3 X 4 = 12\n",
      "3 X 5 = 15\n",
      "3 X 6 = 18\n",
      "3 X 7 = 21\n",
      "3 X 8 = 24\n",
      "3 X 9 = 27\n",
      "3 X 10 = 30\n"
     ]
    }
   ],
   "source": [
    "# 3 table\n",
    "for i in range(1, 11):\n",
    "    print(f\"3 X {i} = {3*i}\")\n",
    "    "
   ]
  },
  {
   "cell_type": "code",
   "execution_count": 40,
   "id": "5a643cb6-5d18-48f9-8325-257fe4fff162",
   "metadata": {},
   "outputs": [
    {
     "name": "stdout",
     "output_type": "stream",
     "text": [
      "1\n",
      "2\n",
      "3\n",
      "4\n",
      "5\n",
      "6\n",
      "7\n",
      "8\n",
      "9\n"
     ]
    }
   ],
   "source": [
    "# Print all numbers from 1 to 100 using a for loop\n",
    "for i in range(1,10):\n",
    "    print(i)"
   ]
  },
  {
   "cell_type": "code",
   "execution_count": 41,
   "id": "41483777-5b85-4113-b45c-43793ca45034",
   "metadata": {},
   "outputs": [
    {
     "name": "stdout",
     "output_type": "stream",
     "text": [
      "0\n",
      "5\n",
      "10\n",
      "15\n"
     ]
    }
   ],
   "source": [
    "for i in range(0,20,5):\n",
    "    print(i)"
   ]
  },
  {
   "cell_type": "code",
   "execution_count": 42,
   "id": "214e8045-1572-41a4-bf4d-070c43a40a92",
   "metadata": {},
   "outputs": [
    {
     "name": "stdout",
     "output_type": "stream",
     "text": [
      "654321\n",
      "123456\n",
      "21\n",
      "6\n"
     ]
    }
   ],
   "source": [
    "# Reverse a number using a while loop.\n",
    "# 1. Also can we get the sum of all the digits.\n",
    "\n",
    "num =123456\n",
    "temp = num\n",
    "sum = 0\n",
    "count = 0\n",
    "rev_num = 0\n",
    "while num > 0:\n",
    "    rem = num % 10 \n",
    "    sum +=rem\n",
    "    count +=1\n",
    "    rev_num =rev_num *10 + rem\n",
    "    num = num //10\n",
    "print(rev_num)\n",
    "print(temp)\n",
    "print(sum)\n",
    "print(count)\n"
   ]
  },
  {
   "cell_type": "code",
   "execution_count": 43,
   "id": "89045f52-1a94-4134-933f-3e4b60b41658",
   "metadata": {},
   "outputs": [
    {
     "name": "stdout",
     "output_type": "stream",
     "text": [
      "You have 3 attempts remaining.\n",
      "Login successful!\n"
     ]
    }
   ],
   "source": [
    "# Implement a basic login system where the user has three\n",
    "# attempts to enter the correct password using a loop\n",
    "\n",
    "user_accountname = \"dilip\"\n",
    "user_password = \"12345\"\n",
    "allowed_attempts = 3\n",
    "\n",
    "while allowed_attempts > 0:\n",
    "    print(\"You have\", allowed_attempts, \"attempts remaining.\")\n",
    "    \n",
    "    username_input = input(\"Enter username: \")\n",
    "    password_input = input(\"Enter password: \")\n",
    "\n",
    "    if user_accountname == username_input and user_password == password_input:\n",
    "        print(\"Login successful!\")\n",
    "        break\n",
    "    else:\n",
    "        print(\"Wrong credentials. Try again.\")\n",
    "        allowed_attempts -= 1  \n",
    "\n",
    "if allowed_attempts == 0:\n",
    "    print(\"Too many failed attempts. Access denied!\")\n"
   ]
  },
  {
   "cell_type": "code",
   "execution_count": 44,
   "id": "30ebe8a1-ba51-41c1-a59d-de05bc9161ff",
   "metadata": {},
   "outputs": [
    {
     "name": "stdout",
     "output_type": "stream",
     "text": [
      "Square: 16.0\n",
      "Square: 1936.0\n",
      "Exiting the program. Goodbye!\n"
     ]
    }
   ],
   "source": [
    "# Implement a menu-driven program where the user can\n",
    "# choose to:\n",
    "# 1. Find the square of a number.\n",
    "# 2. Find the cube of a number.\n",
    "# 3. Exit.\n",
    "\n",
    "while True:\n",
    "    choice = input('Enter \"square\", \"cube\", or \"exit\": ').strip().lower()  # Convert to lowercase and remove spaces\n",
    "\n",
    "    if choice == \"square\":\n",
    "        user_num_input = float(input(\"Enter a number to square: \"))\n",
    "        print(\"Square:\", user_num_input ** 2)\n",
    "\n",
    "    elif choice == \"cube\":\n",
    "        user_num_input = float(input(\"Enter a number to cube: \"))\n",
    "        print(\"Cube:\", user_num_input ** 3)\n",
    "\n",
    "    elif choice == \"exit\":\n",
    "        print(\"Exiting the program. Goodbye!\")\n",
    "        break  # Exit the loop\n",
    "\n",
    "    else:\n",
    "        print(\"Invalid input. Please enter 'square', 'cube', or 'exit'.\")\n",
    "\n"
   ]
  },
  {
   "cell_type": "code",
   "execution_count": 45,
   "id": "8f3c6dcf-8f34-45cc-9b41-34f0b5f52d65",
   "metadata": {},
   "outputs": [
    {
     "name": "stdout",
     "output_type": "stream",
     "text": [
      "5 is prime\n"
     ]
    }
   ],
   "source": [
    "# Check if a given number is a prime number using a for loop.\n",
    "\n",
    "num1 = int(input(\"enter a number to check if it is a prime\"))\n",
    "\n",
    "count = 0\n",
    "for i in range(1, num1 + 1):\n",
    "    if num1 % i == 0:\n",
    "        count += 1\n",
    "if count == 2:\n",
    "    print(f\"{num1} is prime\")\n",
    "else:\n",
    "    print(f\"{num1} not prime\")"
   ]
  },
  {
   "cell_type": "code",
   "execution_count": 46,
   "id": "b5e8f235-f735-4286-9a07-2779219b7e55",
   "metadata": {},
   "outputs": [
    {
     "name": "stdout",
     "output_type": "stream",
     "text": [
      "15\n",
      "30\n",
      "45\n",
      "60\n",
      "75\n",
      "90\n"
     ]
    }
   ],
   "source": [
    "# Print all numbers from 1 to 100 that are divisible by 3 and 5 using a for loop.\n",
    "\n",
    "for i in range(1,101):\n",
    "    if (i % 3 == 0 and i % 5 == 0):\n",
    "        print(i)\n"
   ]
  },
  {
   "cell_type": "code",
   "execution_count": 48,
   "id": "549b6367-b3cd-4e95-9cb0-8ce0ed2212ea",
   "metadata": {
    "scrolled": true
   },
   "outputs": [
    {
     "name": "stdout",
     "output_type": "stream",
     "text": [
      "2 is prime\n",
      "3 is prime\n",
      "5 is prime\n",
      "7 is prime\n",
      "11 is prime\n",
      "13 is prime\n",
      "17 is prime\n",
      "19 is prime\n",
      "23 is prime\n",
      "29 is prime\n",
      "31 is prime\n",
      "37 is prime\n",
      "41 is prime\n",
      "43 is prime\n",
      "47 is prime\n",
      "53 is prime\n",
      "59 is prime\n",
      "61 is prime\n",
      "67 is prime\n",
      "71 is prime\n",
      "73 is prime\n",
      "79 is prime\n",
      "83 is prime\n",
      "89 is prime\n",
      "97 is prime\n"
     ]
    }
   ],
   "source": [
    "# print prime number from lower to upper bound\n",
    "\n",
    "num1 = int(input(\"enter a lower bound :\"))\n",
    "num2 = int(input(\"enter a upper bound :\"))\n",
    "for i in range ( num1, num2 + 1):\n",
    "    count=0\n",
    "    for j in range(1, i + 1):\n",
    "        if i % j == 0:\n",
    "            count += 1\n",
    "    if count == 2:\n",
    "        print(i, \"is prime\")\n",
    "    # else:\n",
    "    # print(f\"{i} not prime\")"
   ]
  },
  {
   "cell_type": "code",
   "execution_count": 49,
   "id": "3318ea75-23d4-49d6-82eb-ad1f725a788f",
   "metadata": {},
   "outputs": [
    {
     "name": "stdout",
     "output_type": "stream",
     "text": [
      "5\n"
     ]
    }
   ],
   "source": [
    "# print prime number of given number of the next number\n",
    "\n",
    "num = int(input(\"enter a numer :\"))\n",
    "\n",
    "while True:\n",
    "    num += 1\n",
    "    \n",
    "    count = 0\n",
    "    for i in range(1, num + 1):\n",
    "        if num % i == 0:\n",
    "            count += 1\n",
    "    if count == 2:\n",
    "        print(num)\n",
    "        break\n",
    "    \n",
    "    "
   ]
  },
  {
   "cell_type": "code",
   "execution_count": 51,
   "id": "9a6539ea-7c2f-481a-87ce-16503d18eb14",
   "metadata": {},
   "outputs": [
    {
     "name": "stdout",
     "output_type": "stream",
     "text": [
      "5\n"
     ]
    }
   ],
   "source": [
    "num = int(input(\"enter a number :\"))\n",
    "while True:\n",
    "    if num in [0,1,2]:\n",
    "        print(\"not existing\")\n",
    "        break\n",
    "    num -= 1\n",
    "    \n",
    "    count = 0\n",
    "    for i in range(1, num + 1):\n",
    "        if num % i == 0:\n",
    "            count += 1\n",
    "    if count == 2:\n",
    "        print(num)\n",
    "        break\n",
    "    "
   ]
  },
  {
   "cell_type": "code",
   "execution_count": 52,
   "id": "dafdd3e8-17fd-4cfb-88e5-4b375d4c0b60",
   "metadata": {},
   "outputs": [
    {
     "name": "stdout",
     "output_type": "stream",
     "text": [
      "153 is an Armstrong number\n"
     ]
    }
   ],
   "source": [
    "# Python program to check if the number is an Armstrong number or not \n",
    "num = int(input(\"Enter a number: \"))\n",
    "sum = 0\n",
    "temp = num\n",
    "while temp > 0:\n",
    "   digit = temp % 10\n",
    "   sum += digit ** 3\n",
    "   temp //= 10\n",
    "if num == sum:\n",
    "   print(num,\"is an Armstrong number\")\n",
    "else:\n",
    "   print(num,\"is not an Armstrong number\")"
   ]
  },
  {
   "cell_type": "code",
   "execution_count": 56,
   "id": "2e3cecb2-d418-4692-b00f-03008f8a81ba",
   "metadata": {},
   "outputs": [
    {
     "name": "stdout",
     "output_type": "stream",
     "text": [
      "0\n",
      "1\n",
      "1\n",
      "2\n",
      "3\n",
      "5\n"
     ]
    }
   ],
   "source": [
    "# write a program to Fibonacci sequence using a while loop\n",
    "input_num = int(input(\"enter the number :\"))\n",
    "n1 = 0\n",
    "n2 = 1\n",
    "print(n1)\n",
    "if input_num > 1:  \n",
    "    print(n2)\n",
    "for i in range(input_num - 2):\n",
    "    temp = n1 + n2\n",
    "    n1 = n2\n",
    "    n2 = temp\n",
    "    print(temp)"
   ]
  },
  {
   "cell_type": "code",
   "execution_count": 57,
   "id": "4bde6fe6-e65a-42e1-b4a0-92d421e21c4a",
   "metadata": {},
   "outputs": [
    {
     "name": "stdout",
     "output_type": "stream",
     "text": [
      "2028 After nearest leap year\n"
     ]
    }
   ],
   "source": [
    "# given year number after nearest number\n",
    "\n",
    "year = int(input(\"Enter the year :\"))\n",
    "\n",
    "while True:\n",
    "    year +=1\n",
    "    if(year % 4 == 0 and year % 100 !=0) or (year % 400 == 0):\n",
    "        print(year,\"After nearest leap year\")\n",
    "        break"
   ]
  },
  {
   "cell_type": "code",
   "execution_count": 59,
   "id": "f79b1855-d98b-4bfd-96af-a3ed9b63c168",
   "metadata": {},
   "outputs": [
    {
     "name": "stdout",
     "output_type": "stream",
     "text": [
      "perfect number\n"
     ]
    }
   ],
   "source": [
    "# perfect number\n",
    "\n",
    "num = int(input(\"enter the number :\"))\n",
    "sum = 0\n",
    "for i in range(1, num):\n",
    "    if (num % i == 0):\n",
    "        sum = sum + i\n",
    "if (num == sum):\n",
    "    print(\"perfect number\")\n",
    "else:\n",
    "    print(\"Not perfect number\")\n",
    "    \n",
    "    "
   ]
  },
  {
   "cell_type": "code",
   "execution_count": 60,
   "id": "3652e607-4c75-422a-b0ae-b52649455a03",
   "metadata": {},
   "outputs": [
    {
     "name": "stdout",
     "output_type": "stream",
     "text": [
      "-1\n",
      "-2\n",
      "-3\n",
      "-4\n",
      "-5\n",
      "-6\n",
      "-7\n",
      "-8\n",
      "-9\n",
      "-10\n"
     ]
    }
   ],
   "source": [
    "# write a program to print numbers from  -1 to -10\n",
    "i = -1\n",
    "while i >= -10:\n",
    "    print(i)\n",
    "    i -= 1\n"
   ]
  },
  {
   "cell_type": "markdown",
   "id": "439fe123-5819-4666-945a-483d7481b256",
   "metadata": {},
   "source": [
    "# funtions"
   ]
  },
  {
   "cell_type": "code",
   "execution_count": 62,
   "id": "d4b319ce-0c3f-4b96-99ae-ab269c47b213",
   "metadata": {},
   "outputs": [
    {
     "name": "stdout",
     "output_type": "stream",
     "text": [
      "Sum of even digits: 12\n"
     ]
    }
   ],
   "source": [
    "# sum of digits in a number  - and add when it is even \n",
    "def sum_of_even_digits(num):\n",
    "    num = abs(num)  \n",
    "    total = 0\n",
    "    \n",
    "    while num > 0:\n",
    "        digit = num % 10  \n",
    "        if digit % 2 == 0:  \n",
    "            total += digit \n",
    "        num //= 10  \n",
    "    \n",
    "    return total\n",
    "\n",
    "\n",
    "number = int(input(\"Enter a number: \"))\n",
    "print(\"Sum of even digits:\", sum_of_even_digits(number))\n"
   ]
  },
  {
   "cell_type": "code",
   "execution_count": 63,
   "id": "ed1a31b4-db20-46d5-af5f-bae02c75c646",
   "metadata": {},
   "outputs": [
    {
     "name": "stdout",
     "output_type": "stream",
     "text": [
      "5 is prime\n"
     ]
    }
   ],
   "source": [
    "# checking the prime or not\n",
    "\n",
    "def check_if_prime(num1):\n",
    "    # count = 0\n",
    "    if input_num < 2:\n",
    "        return False\n",
    "    for i in range(2, num1):\n",
    "        if num1 % i == 0:\n",
    "            return False\n",
    "    return True\n",
    "\n",
    "input_num = int(input(\"Enter number to check if prime\"))\n",
    "print(input_num, \"is prime\") if check_if_prime(input_num) else print(input_num, \"not a prime\")"
   ]
  },
  {
   "cell_type": "code",
   "execution_count": 66,
   "id": "321e0d56-dc16-4c2d-af52-37a56db7df49",
   "metadata": {},
   "outputs": [
    {
     "name": "stdout",
     "output_type": "stream",
     "text": [
      "['153', '370', '371', '407']\n"
     ]
    }
   ],
   "source": [
    "# armstrong number\n",
    "\n",
    "def isarmstrong(lowerBound,upperBound):\n",
    "    arr=[]\n",
    "    for i in range(lowerBound,upperBound):\n",
    "        i=str(i)\n",
    "        temp=0\n",
    "        total=0\n",
    "        for j in range(len(i)):\n",
    "            temp=int(i[j])**len(i)\n",
    "            total+=temp\n",
    "        if total == int(i):\n",
    "            arr.append(i)\n",
    "    return arr\n",
    "print(isarmstrong(100,1000))"
   ]
  },
  {
   "cell_type": "code",
   "execution_count": 70,
   "id": "c895e11b-2862-42f3-9146-ded3f2bb6528",
   "metadata": {},
   "outputs": [
    {
     "name": "stdout",
     "output_type": "stream",
     "text": [
      "(9, 1, 45)\n"
     ]
    }
   ],
   "source": [
    "list = [1, 2, 3, 4, 5, 6, 7, 8, 9]\n",
    "\n",
    "def max_min_sum(list_passed):\n",
    "    max_value = list_passed[0]\n",
    "    min_value = list_passed[0]\n",
    "    total_sum = 0\n",
    "    \n",
    "    for i in list_passed:\n",
    "        max_value = i if i > max_value else max_value \n",
    "        min_value = i if i < min_value else min_value\n",
    "        total_sum += i \n",
    "    return max_value, min_value, total_sum \n",
    "\n",
    "print(max_min_sum(list))\n"
   ]
  },
  {
   "cell_type": "code",
   "execution_count": 71,
   "id": "78ee8093-51f9-451e-ad2c-4acf62abdcee",
   "metadata": {},
   "outputs": [
    {
     "name": "stdout",
     "output_type": "stream",
     "text": [
      "found\n"
     ]
    }
   ],
   "source": [
    "# find if an element exists in the list linear search\n",
    "\n",
    "def search_a_num(list1 , search_num):\n",
    "    for i in list1:\n",
    "        if i == search_num:\n",
    "            return True\n",
    "    return False\n",
    "list1 = [1,2,3,4,5,6,7,8,9]\n",
    "search_num = int(input(\"enter integer to search\"))\n",
    "\n",
    "if search_a_num(list1, search_num):\n",
    "    print(\"found\")\n",
    "\n",
    "else:\n",
    "    print(\"not found\")"
   ]
  },
  {
   "cell_type": "code",
   "execution_count": 72,
   "id": "c071ebd3-1f51-4f4c-b36e-bae9c073b230",
   "metadata": {},
   "outputs": [
    {
     "name": "stdout",
     "output_type": "stream",
     "text": [
      "{'d': 1, 'i': 2, 'l': 1, 'p': 1, ',': 1, 'r': 1, 'a': 1, 'k': 1, 'e': 1, 's': 1, 'h': 1}\n"
     ]
    }
   ],
   "source": [
    "str1 = input (\"enter the string\")\n",
    "\n",
    "res = {}\n",
    "\n",
    "for k in str1:\n",
    "    if k in res:\n",
    "        res[k] += 1\n",
    "    else:\n",
    "        res[k] = 1\n",
    "print(res)"
   ]
  },
  {
   "cell_type": "code",
   "execution_count": 73,
   "id": "0b53cebd-3888-4b2d-a5a5-4bff55df4732",
   "metadata": {},
   "outputs": [
    {
     "name": "stdout",
     "output_type": "stream",
     "text": [
      "[{'deeksha': {'d': 1, 'e': 2, 'k': 1, 's': 1, 'h': 1, 'a': 1}}, {'Ammu': {'A': 1, 'm': 2, 'u': 1}}, {'random': {'r': 1, 'a': 1, 'n': 1, 'd': 1, 'o': 1, 'm': 1}}]\n"
     ]
    }
   ],
   "source": [
    "list1 = [\"deeksha\",\"Ammu\",\"random\"]\n",
    "final_res = []\n",
    "\n",
    "for str in list1:\n",
    "    res = {}\n",
    "    for k in str:\n",
    "        if k in res:\n",
    "            res[k] += 1\n",
    "        else:\n",
    "            res[k] = 1\n",
    "    final_res.append({str: res})\n",
    "print(final_res)\n",
    "\n",
    "        "
   ]
  },
  {
   "cell_type": "code",
   "execution_count": 74,
   "id": "d176e0d0-4843-4ccd-8d17-1ec81e8f5b4e",
   "metadata": {},
   "outputs": [
    {
     "name": "stdout",
     "output_type": "stream",
     "text": [
      "[-32, -1, 2, 4, 79]\n",
      "4\n"
     ]
    }
   ],
   "source": [
    "#second largest element\n",
    "list1 = [2, 4, -1, -32, 79]\n",
    "list1.sort()\n",
    "print(list1)\n",
    "print(list1[-2])\n",
    "\n"
   ]
  },
  {
   "cell_type": "code",
   "execution_count": 75,
   "id": "10be27d2",
   "metadata": {},
   "outputs": [
    {
     "name": "stdout",
     "output_type": "stream",
     "text": [
      "3\n"
     ]
    }
   ],
   "source": [
    "# binary search\n",
    "search_element = int(input(\"enter the element to search :\"))\n",
    "\n",
    "def binary_search( lst, search_element):\n",
    "    low = 0\n",
    "    high = len(lst) - 1\n",
    "    while low <= high:\n",
    "        mid = int((low + high)/ 2)\n",
    "        if lst[mid] == search_element:\n",
    "            return mid\n",
    "        elif lst[mid] > search_element:\n",
    "            high = mid - 1\n",
    "        else:\n",
    "            low = mid + 1\n",
    "    return -1\n",
    "\n",
    "list2 = [1 , 2, 10, 32, 75, 89, 100]\n",
    "\n",
    "res = binary_search(list2, search_element)\n",
    "\n",
    "if res != -1:\n",
    "    print(res)\n",
    "else:\n",
    "    print(\"Not found\")"
   ]
  },
  {
   "cell_type": "code",
   "execution_count": 76,
   "id": "409f6b0c-b600-4b15-a5d6-a21b0ce63e5d",
   "metadata": {},
   "outputs": [
    {
     "data": {
      "text/plain": [
       "[-5, 11, 32, 45, 45, 93, 99, 101]"
      ]
     },
     "execution_count": 76,
     "metadata": {},
     "output_type": "execute_result"
    }
   ],
   "source": [
    "# bubble sort\n",
    "lst = [45, 32,-5,93,99,101,45,11]\n",
    "\n",
    "def bubbleSort(arr):\n",
    "    n=len(arr)-1\n",
    "    swapped=False\n",
    "    for i in range(n):\n",
    "        for j in range(n-i):\n",
    "            if arr[j]>arr[j+1]:\n",
    "                arr[j],arr[j+1]=arr[j+1],arr[j]\n",
    "                swapped=True\n",
    "        if not swapped:\n",
    "            return arr\n",
    "    return arr\n",
    "\n",
    "\n",
    "\n",
    "bubbleSort(lst)\n"
   ]
  },
  {
   "cell_type": "code",
   "execution_count": 78,
   "id": "3a23b7ca",
   "metadata": {},
   "outputs": [
    {
     "name": "stdout",
     "output_type": "stream",
     "text": [
      "2=> 2\n",
      "3=> 2\n",
      "4=> 2\n",
      "5=> 2\n",
      "7=> 1\n",
      "8=> 1\n",
      "9=> 1\n"
     ]
    }
   ],
   "source": [
    "# Count Occurrences of Each Digit input: 2788 output: 2=> 1 7=> 1 8=> 2\n",
    "\n",
    "\n",
    "def count_digit_occurrences(number_str):\n",
    "    counts = {}\n",
    "    for digit in number_str:\n",
    "        counts[digit] = counts.get(digit, 0) + 1\n",
    "    return counts\n",
    "\n",
    "if __name__ == \"__main__\":\n",
    "    num_str = input(\"Enter a number: \")\n",
    "\n",
    "    counts = count_digit_occurrences(num_str)\n",
    "    printed = set()\n",
    "    for digit in num_str:\n",
    "        if digit not in printed:\n",
    "            print(f\"{digit}=> {counts[digit]}\")\n",
    "            printed.add(digit)"
   ]
  },
  {
   "cell_type": "code",
   "execution_count": 2,
   "id": "d61d16b6",
   "metadata": {},
   "outputs": [
    {
     "name": "stdout",
     "output_type": "stream",
     "text": [
      "[4, 17, 4, 16]\n"
     ]
    }
   ],
   "source": [
    "# Wap that takes an array of integers as input and calculates the sum of the digits of each number in the list.\n",
    "\n",
    "\n",
    "def sum_of_digits(n):\n",
    "    return sum(int(digit) for digit in str(n))  \n",
    "\n",
    "def sum_digits_in_list(numbers):\n",
    "    return [sum_of_digits(num) for num in numbers]\n",
    "\n",
    "if __name__ == \"__main__\":\n",
    "    # Example input\n",
    "    numbers = [202, 89, 112, 88]  \n",
    "    result = sum_digits_in_list(numbers) \n",
    "    print(result)"
   ]
  },
  {
   "cell_type": "code",
   "execution_count": 80,
   "id": "3270f36d",
   "metadata": {},
   "outputs": [
    {
     "name": "stdout",
     "output_type": "stream",
     "text": [
      "[9, 8, 7, 6, 5, 4, 3, 2, 1]\n"
     ]
    }
   ],
   "source": [
    "#reverse an array (list)\n",
    "\n",
    "lst=[1,2,3,4,5,6,7,8,9]\n",
    "low=0\n",
    "high=len(lst)-1\n",
    "while(low<high):\n",
    "    lst[low],lst[high]=lst[high],lst[low]\n",
    "    low+=1\n",
    "    high-=1\n",
    "print(lst)"
   ]
  },
  {
   "cell_type": "code",
   "execution_count": 1,
   "id": "41e913f1",
   "metadata": {},
   "outputs": [
    {
     "name": "stdout",
     "output_type": "stream",
     "text": [
      "Duplicates: [1, 2, 3]\n",
      "Unique Numbers: [4, 5, 6, 7, 8]\n"
     ]
    }
   ],
   "source": [
    "#wap to print duplicates and unique numbers in a list\n",
    "\n",
    "def find_duplicates_and_uniques(lst):\n",
    "    duplicates = set()\n",
    "    uniques = set()\n",
    "\n",
    "    seen = set()\n",
    "    for num in lst:\n",
    "        if num in seen:\n",
    "            duplicates.add(num)\n",
    "        else:\n",
    "            seen.add(num)\n",
    "    \n",
    "    uniques = seen - duplicates \n",
    "\n",
    "    print(\"Duplicates:\", list(duplicates))\n",
    "    print(\"Unique Numbers:\", list(uniques))\n",
    "\n",
    "numbers = [1, 2, 3, 4, 2, 5, 6, 3, 7, 8, 1]\n",
    "find_duplicates_and_uniques(numbers)"
   ]
  }
 ],
 "metadata": {
  "kernelspec": {
   "display_name": "Python 3",
   "language": "python",
   "name": "python3"
  },
  "language_info": {
   "codemirror_mode": {
    "name": "ipython",
    "version": 3
   },
   "file_extension": ".py",
   "mimetype": "text/x-python",
   "name": "python",
   "nbconvert_exporter": "python",
   "pygments_lexer": "ipython3",
   "version": "3.13.1"
  }
 },
 "nbformat": 4,
 "nbformat_minor": 5
}
